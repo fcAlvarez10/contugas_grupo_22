{
 "cells": [
  {
   "cell_type": "markdown",
   "id": "c692604d",
   "metadata": {},
   "source": [
    "# Reporte Técnico: Selección e Implementación de Modelos\n",
    "\n",
    "---\n",
    "\n",
    "## 1. Introducción\n",
    "\n",
    "En operaciones de Contugas, monitorear presión, volumen y temperatura es crítico.  \n",
    "**Pregunta de negocio**: ¿Qué registros representan un comportamiento anómalo?  \n",
    "Sin etiquetas operativas, definimos anomalía puramente sobre datos históricos, combinando:  \n",
    "1. **Rolling IQR** per‐cliente → pseudo‐etiquetas univariadas.  \n",
    "2. **Ensemble** de 3 modelos no supervisados (IF, LOF, OCSVM) → etiquetas finales.  \n",
    "\n",
    "Los requerimientos R3–R6 (sensibilidad, estabilidad, separación y coherencia) guían este desarrollo.\n",
    "\n",
    "---\n",
    "\n",
    "## 2. Propuesta de Modelos\n",
    "\n",
    "### 2.1 Modelos Considerados\n",
    "\n",
    "| Modelo                | Ventajas                                     | Desventajas                              |\n",
    "|-----------------------|----------------------------------------------|------------------------------------------|\n",
    "| Isolation Forest (IF) | Escalable, genera score, no requiere etiquetas | Sensible a `contamination` y `n_estimators` |\n",
    "| Local Outlier Factor (LOF) | Detecta anomalías locales                 | Más costoso, necesita `novelty=True`     |\n",
    "| One-Class SVM (OCSVM) | Flexible (kernels)                           | Lento, sensible a `nu` y `gamma`         |\n",
    "\n",
    "**Estrategia**: entrenar cada modelo sobre la misma matriz de features,  \n",
    "recoger labels y scores, luego aplicar un **ensemble** por mayoría (≥2 de 3).\n",
    "\n",
    "---\n",
    "\n",
    "## 3. Desarrollo\n",
    "\n",
    "### 3.1 Instalación de dependencias\n",
    "\n",
    "```bash\n",
    "pip install pandas numpy scikit-learn matplotlib seaborn joblib\n"
   ]
  },
  {
   "cell_type": "markdown",
   "id": "33c4d3ae",
   "metadata": {},
   "source": [
    "### 3.1 Lectura y EDA inicial"
   ]
  },
  {
   "cell_type": "code",
   "execution_count": 7,
   "id": "f2ff6e77",
   "metadata": {},
   "outputs": [
    {
     "name": "stdout",
     "output_type": "stream",
     "text": [
      "(847960, 5)\n"
     ]
    },
    {
     "data": {
      "application/vnd.microsoft.datawrangler.viewer.v0+json": {
       "columns": [
        {
         "name": "index",
         "rawType": "int64",
         "type": "integer"
        },
        {
         "name": "Fecha",
         "rawType": "datetime64[ns]",
         "type": "datetime"
        },
        {
         "name": "Presion",
         "rawType": "float64",
         "type": "float"
        },
        {
         "name": "Temperatura",
         "rawType": "float64",
         "type": "float"
        },
        {
         "name": "Volumen",
         "rawType": "float64",
         "type": "float"
        },
        {
         "name": "Cliente",
         "rawType": "object",
         "type": "string"
        }
       ],
       "conversionMethod": "pd.DataFrame",
       "ref": "f3232806-18b6-4f61-98f5-33f9dd4c6c05",
       "rows": [
        [
         "0",
         "2019-01-14 00:00:00",
         "17.7325634924889",
         "28.2093536541928",
         "20.96975076975659",
         "CLIENTE1"
        ],
        [
         "1",
         "2019-01-14 01:00:00",
         "17.74777603806793",
         "28.51861421312152",
         "17.84573913758869",
         "CLIENTE1"
        ],
        [
         "2",
         "2019-01-14 02:00:00",
         "17.75891638774564",
         "28.23019056507057",
         "20.97591383522386",
         "CLIENTE1"
        ],
        [
         "3",
         "2019-01-14 03:00:00",
         "17.72794022684193",
         "27.8115085858999",
         "20.59229909002912",
         "CLIENTE1"
        ],
        [
         "4",
         "2019-01-14 04:00:00",
         "17.74648374408114",
         "27.79529343321371",
         "21.69062581523098",
         "CLIENTE1"
        ]
       ],
       "shape": {
        "columns": 5,
        "rows": 5
       }
      },
      "text/html": [
       "<div>\n",
       "<style scoped>\n",
       "    .dataframe tbody tr th:only-of-type {\n",
       "        vertical-align: middle;\n",
       "    }\n",
       "\n",
       "    .dataframe tbody tr th {\n",
       "        vertical-align: top;\n",
       "    }\n",
       "\n",
       "    .dataframe thead th {\n",
       "        text-align: right;\n",
       "    }\n",
       "</style>\n",
       "<table border=\"1\" class=\"dataframe\">\n",
       "  <thead>\n",
       "    <tr style=\"text-align: right;\">\n",
       "      <th></th>\n",
       "      <th>Fecha</th>\n",
       "      <th>Presion</th>\n",
       "      <th>Temperatura</th>\n",
       "      <th>Volumen</th>\n",
       "      <th>Cliente</th>\n",
       "    </tr>\n",
       "  </thead>\n",
       "  <tbody>\n",
       "    <tr>\n",
       "      <th>0</th>\n",
       "      <td>2019-01-14 00:00:00</td>\n",
       "      <td>17.732563</td>\n",
       "      <td>28.209354</td>\n",
       "      <td>20.969751</td>\n",
       "      <td>CLIENTE1</td>\n",
       "    </tr>\n",
       "    <tr>\n",
       "      <th>1</th>\n",
       "      <td>2019-01-14 01:00:00</td>\n",
       "      <td>17.747776</td>\n",
       "      <td>28.518614</td>\n",
       "      <td>17.845739</td>\n",
       "      <td>CLIENTE1</td>\n",
       "    </tr>\n",
       "    <tr>\n",
       "      <th>2</th>\n",
       "      <td>2019-01-14 02:00:00</td>\n",
       "      <td>17.758916</td>\n",
       "      <td>28.230191</td>\n",
       "      <td>20.975914</td>\n",
       "      <td>CLIENTE1</td>\n",
       "    </tr>\n",
       "    <tr>\n",
       "      <th>3</th>\n",
       "      <td>2019-01-14 03:00:00</td>\n",
       "      <td>17.727940</td>\n",
       "      <td>27.811509</td>\n",
       "      <td>20.592299</td>\n",
       "      <td>CLIENTE1</td>\n",
       "    </tr>\n",
       "    <tr>\n",
       "      <th>4</th>\n",
       "      <td>2019-01-14 04:00:00</td>\n",
       "      <td>17.746484</td>\n",
       "      <td>27.795293</td>\n",
       "      <td>21.690626</td>\n",
       "      <td>CLIENTE1</td>\n",
       "    </tr>\n",
       "  </tbody>\n",
       "</table>\n",
       "</div>"
      ],
      "text/plain": [
       "                Fecha    Presion  Temperatura    Volumen   Cliente\n",
       "0 2019-01-14 00:00:00  17.732563    28.209354  20.969751  CLIENTE1\n",
       "1 2019-01-14 01:00:00  17.747776    28.518614  17.845739  CLIENTE1\n",
       "2 2019-01-14 02:00:00  17.758916    28.230191  20.975914  CLIENTE1\n",
       "3 2019-01-14 03:00:00  17.727940    27.811509  20.592299  CLIENTE1\n",
       "4 2019-01-14 04:00:00  17.746484    27.795293  21.690626  CLIENTE1"
      ]
     },
     "execution_count": 7,
     "metadata": {},
     "output_type": "execute_result"
    }
   ],
   "source": [
    "import pandas as pd\n",
    "import numpy as np\n",
    "\n",
    "df = pd.read_excel(\"datos_clientes.xlsx\")\n",
    "print(df.shape)\n",
    "df.head()"
   ]
  },
  {
   "cell_type": "markdown",
   "id": "e0d93323",
   "metadata": {},
   "source": [
    "### 3.3 Feature Engineering y Preprocesamiento"
   ]
  },
  {
   "cell_type": "code",
   "execution_count": 8,
   "id": "6572cb89",
   "metadata": {},
   "outputs": [
    {
     "name": "stderr",
     "output_type": "stream",
     "text": [
      "C:\\Users\\dshar\\AppData\\Local\\Packages\\PythonSoftwareFoundation.Python.3.11_qbz5n2kfra8p0\\LocalCache\\local-packages\\Python311\\site-packages\\pandas\\core\\arraylike.py:399: RuntimeWarning: invalid value encountered in log1p\n",
      "  result = getattr(ufunc, method)(*inputs, **kwargs)\n"
     ]
    },
    {
     "name": "stdout",
     "output_type": "stream",
     "text": [
      "Matriz de features: (847960, 43)\n"
     ]
    },
    {
     "data": {
      "application/vnd.microsoft.datawrangler.viewer.v0+json": {
       "columns": [
        {
         "name": "index",
         "rawType": "int64",
         "type": "integer"
        },
        {
         "name": "Presion",
         "rawType": "float64",
         "type": "float"
        },
        {
         "name": "Temperatura",
         "rawType": "float64",
         "type": "float"
        },
        {
         "name": "Volumen",
         "rawType": "float64",
         "type": "float"
        },
        {
         "name": "hour",
         "rawType": "int32",
         "type": "integer"
        },
        {
         "name": "day_of_week",
         "rawType": "int32",
         "type": "integer"
        },
        {
         "name": "is_weekend",
         "rawType": "int32",
         "type": "integer"
        },
        {
         "name": "sin_hour",
         "rawType": "float64",
         "type": "float"
        },
        {
         "name": "cos_hour",
         "rawType": "float64",
         "type": "float"
        },
        {
         "name": "sin_day_of_week",
         "rawType": "float64",
         "type": "float"
        },
        {
         "name": "cos_day_of_week",
         "rawType": "float64",
         "type": "float"
        },
        {
         "name": "C_CLIENTE1",
         "rawType": "bool",
         "type": "boolean"
        },
        {
         "name": "C_CLIENTE10",
         "rawType": "bool",
         "type": "boolean"
        },
        {
         "name": "C_CLIENTE11",
         "rawType": "bool",
         "type": "boolean"
        },
        {
         "name": "C_CLIENTE12",
         "rawType": "bool",
         "type": "boolean"
        },
        {
         "name": "C_CLIENTE13",
         "rawType": "bool",
         "type": "boolean"
        },
        {
         "name": "C_CLIENTE14",
         "rawType": "bool",
         "type": "boolean"
        },
        {
         "name": "C_CLIENTE15",
         "rawType": "bool",
         "type": "boolean"
        },
        {
         "name": "C_CLIENTE16",
         "rawType": "bool",
         "type": "boolean"
        },
        {
         "name": "C_CLIENTE17",
         "rawType": "bool",
         "type": "boolean"
        },
        {
         "name": "C_CLIENTE18",
         "rawType": "bool",
         "type": "boolean"
        },
        {
         "name": "C_CLIENTE19",
         "rawType": "bool",
         "type": "boolean"
        },
        {
         "name": "C_CLIENTE2",
         "rawType": "bool",
         "type": "boolean"
        },
        {
         "name": "C_CLIENTE20",
         "rawType": "bool",
         "type": "boolean"
        },
        {
         "name": "C_CLIENTE3",
         "rawType": "bool",
         "type": "boolean"
        },
        {
         "name": "C_CLIENTE4",
         "rawType": "bool",
         "type": "boolean"
        },
        {
         "name": "C_CLIENTE5",
         "rawType": "bool",
         "type": "boolean"
        },
        {
         "name": "C_CLIENTE6",
         "rawType": "bool",
         "type": "boolean"
        },
        {
         "name": "C_CLIENTE7",
         "rawType": "bool",
         "type": "boolean"
        },
        {
         "name": "C_CLIENTE8",
         "rawType": "bool",
         "type": "boolean"
        },
        {
         "name": "C_CLIENTE9",
         "rawType": "bool",
         "type": "boolean"
        },
        {
         "name": "ratio_pres_vol",
         "rawType": "float64",
         "type": "float"
        },
        {
         "name": "ratio_pres_temp",
         "rawType": "float64",
         "type": "float"
        },
        {
         "name": "ratio_vol_temp",
         "rawType": "float64",
         "type": "float"
        },
        {
         "name": "prod_pres_vol",
         "rawType": "float64",
         "type": "float"
        },
        {
         "name": "prod_pres_temp",
         "rawType": "float64",
         "type": "float"
        },
        {
         "name": "prod_vol_temp",
         "rawType": "float64",
         "type": "float"
        },
        {
         "name": "log_presion",
         "rawType": "float64",
         "type": "float"
        },
        {
         "name": "log_volumen",
         "rawType": "float64",
         "type": "float"
        },
        {
         "name": "log_temperatura",
         "rawType": "float64",
         "type": "float"
        },
        {
         "name": "mean_three",
         "rawType": "float64",
         "type": "float"
        },
        {
         "name": "std_three",
         "rawType": "float64",
         "type": "float"
        },
        {
         "name": "max_three",
         "rawType": "float64",
         "type": "float"
        },
        {
         "name": "min_three",
         "rawType": "float64",
         "type": "float"
        }
       ],
       "conversionMethod": "pd.DataFrame",
       "ref": "d1e250c7-24aa-4f27-8aa5-04869ecc25a3",
       "rows": [
        [
         "0",
         "17.7325634924889",
         "28.2093536541928",
         "20.96975076975659",
         "0",
         "0",
         "0",
         "0.0",
         "1.0",
         "0.0",
         "1.0",
         "True",
         "False",
         "False",
         "False",
         "False",
         "False",
         "False",
         "False",
         "False",
         "False",
         "False",
         "False",
         "False",
         "False",
         "False",
         "False",
         "False",
         "False",
         "False",
         "False",
         "0.8456258179490473",
         "0.6286057837857443",
         "0.7433615914584499",
         "371.8474369463767",
         "500.2241547550476",
         "591.5431155043453",
         "2.930263372680127",
         "3.0896665422154963",
         "3.3744889886023772",
         "22.30388930547943",
         "5.364301189108365",
         "28.2093536541928",
         "17.7325634924889"
        ],
        [
         "1",
         "17.74777603806793",
         "28.51861421312152",
         "17.84573913758869",
         "1",
         "0",
         "0",
         "0.25881904510252074",
         "0.9659258262890683",
         "0.0",
         "1.0",
         "True",
         "False",
         "False",
         "False",
         "False",
         "False",
         "False",
         "False",
         "False",
         "False",
         "False",
         "False",
         "False",
         "False",
         "False",
         "False",
         "False",
         "False",
         "False",
         "False",
         "0.9945105050972686",
         "0.622322504281418",
         "0.6257575623579997",
         "316.7221814477076",
         "506.1419779705416",
         "508.93574981289584",
         "2.9310751340784993",
         "2.9362868478968043",
         "3.3850210546304194",
         "21.37070979625938",
         "6.1904605932567645",
         "28.51861421312152",
         "17.74777603806793"
        ],
        [
         "2",
         "17.75891638774564",
         "28.23019056507057",
         "20.97591383522386",
         "2",
         "0",
         "0",
         "0.49999999999999994",
         "0.8660254037844387",
         "0.0",
         "1.0",
         "True",
         "False",
         "False",
         "False",
         "False",
         "False",
         "False",
         "False",
         "False",
         "False",
         "False",
         "False",
         "False",
         "False",
         "False",
         "False",
         "False",
         "False",
         "False",
         "False",
         "0.846633699995956",
         "0.629075305663844",
         "0.743031225518764",
         "372.5094999562975",
         "501.33759385521404",
         "592.1540448448699",
         "2.9316691800625514",
         "3.089947027927253",
         "3.3752020986048303",
         "22.321673596013355",
         "5.363785764224566",
         "28.23019056507057",
         "17.75891638774564"
        ],
        [
         "3",
         "17.72794022684193",
         "27.8115085858999",
         "20.59229909002912",
         "3",
         "0",
         "0",
         "0.7071067811865476",
         "0.7071067811865476",
         "0.0",
         "1.0",
         "True",
         "False",
         "False",
         "False",
         "False",
         "False",
         "False",
         "False",
         "False",
         "False",
         "False",
         "False",
         "False",
         "False",
         "False",
         "False",
         "False",
         "False",
         "False",
         "False",
         "0.8609014121460805",
         "0.6374317860052365",
         "0.74042363743064",
         "365.05904740128767",
         "493.04076182913457",
         "572.7029029457635",
         "2.9300165385368873",
         "3.0723367275107045",
         "3.3607749109986944",
         "22.04391596759032",
         "5.196150631223478",
         "27.8115085858999",
         "17.72794022684193"
        ],
        [
         "4",
         "17.74648374408114",
         "27.79529343321371",
         "21.69062581523098",
         "4",
         "0",
         "0",
         "0.8660254037844386",
         "0.5000000000000001",
         "0.0",
         "1.0",
         "True",
         "False",
         "False",
         "False",
         "False",
         "False",
         "False",
         "False",
         "False",
         "False",
         "False",
         "False",
         "False",
         "False",
         "False",
         "False",
         "False",
         "False",
         "False",
         "False",
         "0.8181637116922644",
         "0.6384707953615039",
         "0.7803704280718818",
         "384.9323384289433",
         "493.26872307449236",
         "602.8973092843854",
         "2.9310062011807805",
         "3.121951879514571",
         "3.360211951329138",
         "22.410800997508613",
         "5.0629668438552535",
         "27.79529343321371",
         "17.74648374408114"
        ]
       ],
       "shape": {
        "columns": 43,
        "rows": 5
       }
      },
      "text/html": [
       "<div>\n",
       "<style scoped>\n",
       "    .dataframe tbody tr th:only-of-type {\n",
       "        vertical-align: middle;\n",
       "    }\n",
       "\n",
       "    .dataframe tbody tr th {\n",
       "        vertical-align: top;\n",
       "    }\n",
       "\n",
       "    .dataframe thead th {\n",
       "        text-align: right;\n",
       "    }\n",
       "</style>\n",
       "<table border=\"1\" class=\"dataframe\">\n",
       "  <thead>\n",
       "    <tr style=\"text-align: right;\">\n",
       "      <th></th>\n",
       "      <th>Presion</th>\n",
       "      <th>Temperatura</th>\n",
       "      <th>Volumen</th>\n",
       "      <th>hour</th>\n",
       "      <th>day_of_week</th>\n",
       "      <th>is_weekend</th>\n",
       "      <th>sin_hour</th>\n",
       "      <th>cos_hour</th>\n",
       "      <th>sin_day_of_week</th>\n",
       "      <th>cos_day_of_week</th>\n",
       "      <th>...</th>\n",
       "      <th>prod_pres_vol</th>\n",
       "      <th>prod_pres_temp</th>\n",
       "      <th>prod_vol_temp</th>\n",
       "      <th>log_presion</th>\n",
       "      <th>log_volumen</th>\n",
       "      <th>log_temperatura</th>\n",
       "      <th>mean_three</th>\n",
       "      <th>std_three</th>\n",
       "      <th>max_three</th>\n",
       "      <th>min_three</th>\n",
       "    </tr>\n",
       "  </thead>\n",
       "  <tbody>\n",
       "    <tr>\n",
       "      <th>0</th>\n",
       "      <td>17.732563</td>\n",
       "      <td>28.209354</td>\n",
       "      <td>20.969751</td>\n",
       "      <td>0</td>\n",
       "      <td>0</td>\n",
       "      <td>0</td>\n",
       "      <td>0.000000</td>\n",
       "      <td>1.000000</td>\n",
       "      <td>0.0</td>\n",
       "      <td>1.0</td>\n",
       "      <td>...</td>\n",
       "      <td>371.847437</td>\n",
       "      <td>500.224155</td>\n",
       "      <td>591.543116</td>\n",
       "      <td>2.930263</td>\n",
       "      <td>3.089667</td>\n",
       "      <td>3.374489</td>\n",
       "      <td>22.303889</td>\n",
       "      <td>5.364301</td>\n",
       "      <td>28.209354</td>\n",
       "      <td>17.732563</td>\n",
       "    </tr>\n",
       "    <tr>\n",
       "      <th>1</th>\n",
       "      <td>17.747776</td>\n",
       "      <td>28.518614</td>\n",
       "      <td>17.845739</td>\n",
       "      <td>1</td>\n",
       "      <td>0</td>\n",
       "      <td>0</td>\n",
       "      <td>0.258819</td>\n",
       "      <td>0.965926</td>\n",
       "      <td>0.0</td>\n",
       "      <td>1.0</td>\n",
       "      <td>...</td>\n",
       "      <td>316.722181</td>\n",
       "      <td>506.141978</td>\n",
       "      <td>508.935750</td>\n",
       "      <td>2.931075</td>\n",
       "      <td>2.936287</td>\n",
       "      <td>3.385021</td>\n",
       "      <td>21.370710</td>\n",
       "      <td>6.190461</td>\n",
       "      <td>28.518614</td>\n",
       "      <td>17.747776</td>\n",
       "    </tr>\n",
       "    <tr>\n",
       "      <th>2</th>\n",
       "      <td>17.758916</td>\n",
       "      <td>28.230191</td>\n",
       "      <td>20.975914</td>\n",
       "      <td>2</td>\n",
       "      <td>0</td>\n",
       "      <td>0</td>\n",
       "      <td>0.500000</td>\n",
       "      <td>0.866025</td>\n",
       "      <td>0.0</td>\n",
       "      <td>1.0</td>\n",
       "      <td>...</td>\n",
       "      <td>372.509500</td>\n",
       "      <td>501.337594</td>\n",
       "      <td>592.154045</td>\n",
       "      <td>2.931669</td>\n",
       "      <td>3.089947</td>\n",
       "      <td>3.375202</td>\n",
       "      <td>22.321674</td>\n",
       "      <td>5.363786</td>\n",
       "      <td>28.230191</td>\n",
       "      <td>17.758916</td>\n",
       "    </tr>\n",
       "    <tr>\n",
       "      <th>3</th>\n",
       "      <td>17.727940</td>\n",
       "      <td>27.811509</td>\n",
       "      <td>20.592299</td>\n",
       "      <td>3</td>\n",
       "      <td>0</td>\n",
       "      <td>0</td>\n",
       "      <td>0.707107</td>\n",
       "      <td>0.707107</td>\n",
       "      <td>0.0</td>\n",
       "      <td>1.0</td>\n",
       "      <td>...</td>\n",
       "      <td>365.059047</td>\n",
       "      <td>493.040762</td>\n",
       "      <td>572.702903</td>\n",
       "      <td>2.930017</td>\n",
       "      <td>3.072337</td>\n",
       "      <td>3.360775</td>\n",
       "      <td>22.043916</td>\n",
       "      <td>5.196151</td>\n",
       "      <td>27.811509</td>\n",
       "      <td>17.727940</td>\n",
       "    </tr>\n",
       "    <tr>\n",
       "      <th>4</th>\n",
       "      <td>17.746484</td>\n",
       "      <td>27.795293</td>\n",
       "      <td>21.690626</td>\n",
       "      <td>4</td>\n",
       "      <td>0</td>\n",
       "      <td>0</td>\n",
       "      <td>0.866025</td>\n",
       "      <td>0.500000</td>\n",
       "      <td>0.0</td>\n",
       "      <td>1.0</td>\n",
       "      <td>...</td>\n",
       "      <td>384.932338</td>\n",
       "      <td>493.268723</td>\n",
       "      <td>602.897309</td>\n",
       "      <td>2.931006</td>\n",
       "      <td>3.121952</td>\n",
       "      <td>3.360212</td>\n",
       "      <td>22.410801</td>\n",
       "      <td>5.062967</td>\n",
       "      <td>27.795293</td>\n",
       "      <td>17.746484</td>\n",
       "    </tr>\n",
       "  </tbody>\n",
       "</table>\n",
       "<p>5 rows × 43 columns</p>\n",
       "</div>"
      ],
      "text/plain": [
       "     Presion  Temperatura    Volumen  hour  day_of_week  is_weekend  sin_hour  \\\n",
       "0  17.732563    28.209354  20.969751     0            0           0  0.000000   \n",
       "1  17.747776    28.518614  17.845739     1            0           0  0.258819   \n",
       "2  17.758916    28.230191  20.975914     2            0           0  0.500000   \n",
       "3  17.727940    27.811509  20.592299     3            0           0  0.707107   \n",
       "4  17.746484    27.795293  21.690626     4            0           0  0.866025   \n",
       "\n",
       "   cos_hour  sin_day_of_week  cos_day_of_week  ...  prod_pres_vol  \\\n",
       "0  1.000000              0.0              1.0  ...     371.847437   \n",
       "1  0.965926              0.0              1.0  ...     316.722181   \n",
       "2  0.866025              0.0              1.0  ...     372.509500   \n",
       "3  0.707107              0.0              1.0  ...     365.059047   \n",
       "4  0.500000              0.0              1.0  ...     384.932338   \n",
       "\n",
       "   prod_pres_temp  prod_vol_temp  log_presion  log_volumen  log_temperatura  \\\n",
       "0      500.224155     591.543116     2.930263     3.089667         3.374489   \n",
       "1      506.141978     508.935750     2.931075     2.936287         3.385021   \n",
       "2      501.337594     592.154045     2.931669     3.089947         3.375202   \n",
       "3      493.040762     572.702903     2.930017     3.072337         3.360775   \n",
       "4      493.268723     602.897309     2.931006     3.121952         3.360212   \n",
       "\n",
       "   mean_three  std_three  max_three  min_three  \n",
       "0   22.303889   5.364301  28.209354  17.732563  \n",
       "1   21.370710   6.190461  28.518614  17.747776  \n",
       "2   22.321674   5.363786  28.230191  17.758916  \n",
       "3   22.043916   5.196151  27.811509  17.727940  \n",
       "4   22.410801   5.062967  27.795293  17.746484  \n",
       "\n",
       "[5 rows x 43 columns]"
      ]
     },
     "execution_count": 8,
     "metadata": {},
     "output_type": "execute_result"
    }
   ],
   "source": [
    "def add_features(df: pd.DataFrame) -> pd.DataFrame:\n",
    "    df = df.copy()\n",
    "    # Asegurar datetime\n",
    "    df['Fecha'] = pd.to_datetime(df['Fecha'])\n",
    "    df = df.sort_values(['Cliente','Fecha']).reset_index(drop=True)\n",
    "\n",
    "    # 1. Temporales\n",
    "    df['hour']        = df['Fecha'].dt.hour\n",
    "    df['day_of_week'] = df['Fecha'].dt.dayofweek\n",
    "    df['is_weekend']  = (df['day_of_week'] >= 5).astype(int)\n",
    "\n",
    "    # 2. Cíclicas\n",
    "    df['sin_hour']        = np.sin(2*np.pi * df['hour']       / 24)\n",
    "    df['cos_hour']        = np.cos(2*np.pi * df['hour']       / 24)\n",
    "    df['sin_day_of_week'] = np.sin(2*np.pi * df['day_of_week']/ 7)\n",
    "    df['cos_day_of_week'] = np.cos(2*np.pi * df['day_of_week']/ 7)\n",
    "\n",
    "    # 3. Cliente one-hot\n",
    "    df = pd.get_dummies(df, columns=['Cliente'], prefix='C')\n",
    "\n",
    "    # 4. Ratios y productos físicos\n",
    "    df['ratio_pres_vol']  = df['Presion']    / (df['Volumen']    + 1e-6)\n",
    "    df['ratio_pres_temp'] = df['Presion']    / (df['Temperatura'] + 1e-6)\n",
    "    df['ratio_vol_temp']  = df['Volumen']    / (df['Temperatura'] + 1e-6)\n",
    "    df['prod_pres_vol']   = df['Presion'] * df['Volumen']\n",
    "    df['prod_pres_temp']  = df['Presion'] * df['Temperatura']\n",
    "    df['prod_vol_temp']   = df['Volumen'] * df['Temperatura']\n",
    "\n",
    "    # 5. Transformaciones no lineales\n",
    "    df['log_presion']     = np.log1p(df['Presion'])\n",
    "    df['log_volumen']     = np.log1p(df['Volumen'])\n",
    "    df['log_temperatura'] = np.log1p(df['Temperatura'])\n",
    "\n",
    "    # 6. Estadísticos de la fila\n",
    "    trio = df[['Presion','Volumen','Temperatura']]\n",
    "    df['mean_three'] = trio.mean(axis=1)\n",
    "    df['std_three']  = trio.std(axis=1)\n",
    "    df['max_three']  = trio.max(axis=1)\n",
    "    df['min_three']  = trio.min(axis=1)\n",
    "\n",
    "    # 7. Imputación final\n",
    "    num_cols = df.select_dtypes(include=[np.number]).columns\n",
    "    df[num_cols] = df[num_cols].fillna(df[num_cols].median())\n",
    "\n",
    "    return df\n",
    "\n",
    "def prepare_ml_matrix(df: pd.DataFrame) -> pd.DataFrame:\n",
    "    drop_cols = ['Fecha']\n",
    "    return df[[c for c in df.columns if c not in drop_cols]]\n",
    "\n",
    "# Generar features\n",
    "df_add = add_features(df)\n",
    "X  = prepare_ml_matrix(df_add)\n",
    "\n",
    "print(\"Matriz de features:\", X.shape)\n",
    "X.head()"
   ]
  },
  {
   "cell_type": "markdown",
   "id": "fa778f4d",
   "metadata": {},
   "source": [
    "### 3.4 Rolling IQR – Pseudo‐etiquetas"
   ]
  },
  {
   "cell_type": "code",
   "execution_count": 9,
   "id": "c6e279d4",
   "metadata": {},
   "outputs": [
    {
     "data": {
      "image/png": "[encoded data removed]",
      "text/plain": [
       "<Figure size 800x400 with 1 Axes>"
      ]
     },
     "metadata": {},
     "output_type": "display_data"
    }
   ],
   "source": [
    "import matplotlib.pyplot as plt\n",
    "\n",
    "def rolling_iqr_mask(df, variable, window):\n",
    "    q1 = df.groupby('Cliente')[variable] \\\n",
    "           .transform(lambda x: x.rolling(window,1).quantile(0.25))\n",
    "    q3 = df.groupby('Cliente')[variable] \\\n",
    "           .transform(lambda x: x.rolling(window,1).quantile(0.75))\n",
    "    iqr = q3 - q1\n",
    "    mask = (df[variable] < (q1 - 1.5*iqr)) | (df[variable] > (q3 + 1.5*iqr))\n",
    "    return mask.astype(int)\n",
    "\n",
    "\n",
    "# Evaluar distintos tamaños de ventana (en horas)\n",
    "windows = [6, 12, 24, 36, 48, 72, 96, 120, 144, 168]\n",
    "percentages = []\n",
    "\n",
    "for w in windows:\n",
    "    mask_pres = rolling_iqr_mask(df, 'Presion', w)\n",
    "    mask_vol  = rolling_iqr_mask(df, 'Volumen', w)\n",
    "    mask_temp = rolling_iqr_mask(df, 'Temperatura', w)\n",
    "    pseudo = ((mask_pres + mask_vol + mask_temp) >= 1).astype(int)\n",
    "    percentages.append(pseudo.mean() * 100)\n",
    "\n",
    "# Graficar\n",
    "plt.figure(figsize=(8, 4))\n",
    "plt.plot(windows, percentages, marker='o', linestyle='-')\n",
    "plt.xlabel('Tamaño de ventana móvil (horas)')\n",
    "plt.ylabel('% Pseudo-anomalías')\n",
    "plt.title('Pseudo-anomalías vs. Tamaño de ventana móvil')\n",
    "plt.xticks(windows)\n",
    "plt.grid(True)\n",
    "plt.show()"
   ]
  },
  {
   "cell_type": "code",
   "execution_count": 10,
   "id": "2e49b6a7",
   "metadata": {},
   "outputs": [
    {
     "name": "stdout",
     "output_type": "stream",
     "text": [
      "Pseudo‐etiquetas univariadas %anom: 11.378131043917165\n"
     ]
    }
   ],
   "source": [
    "# Definir ventana (48 horas = 2 días)\n",
    "window = 48\n",
    "mask_pres = rolling_iqr_mask(df,'Presion',window)\n",
    "mask_vol  = rolling_iqr_mask(df,'Volumen',window)\n",
    "mask_temp = rolling_iqr_mask(df,'Temperatura',window)\n",
    "\n",
    "df['pseudo_anom'] = ((mask_pres + mask_vol + mask_temp) >= 1).astype(int)\n",
    "print(\"Pseudo‐etiquetas univariadas %anom:\", df['pseudo_anom'].mean()*100)"
   ]
  },
  {
   "cell_type": "markdown",
   "id": "15526845",
   "metadata": {},
   "source": [
    "### 3.5 Entrenamiento y Calibración de Modelos "
   ]
  },
  {
   "cell_type": "code",
   "execution_count": 11,
   "id": "f5c22974",
   "metadata": {},
   "outputs": [
    {
     "ename": "",
     "evalue": "",
     "output_type": "error",
     "traceback": [
      "\u001b[1;31mCannot execute code, session has been disposed. Please try restarting the Kernel."
     ]
    },
    {
     "ename": "",
     "evalue": "",
     "output_type": "error",
     "traceback": [
      "\u001b[1;31mCannot execute code, session has been disposed. Please try restarting the Kernel. \n",
      "\u001b[1;31mView Jupyter <a href='command:jupyter.viewOutput'>log</a> for further details."
     ]
    }
   ],
   "source": [
    "from sklearn.ensemble import IsolationForest\n",
    "from sklearn.neighbors import LocalOutlierFactor\n",
    "from sklearn.svm import OneClassSVM\n",
    "from sklearn.preprocessing import StandardScaler\n",
    "\n",
    "def train_and_predict(det_name, X, contamination, random_state=42):\n",
    "    scaler = StandardScaler().fit(X)\n",
    "    Xs = scaler.transform(X)\n",
    "    if det_name=='if':\n",
    "        model = IsolationForest(contamination=contamination, random_state=random_state)\n",
    "    elif det_name=='lof':\n",
    "        model = LocalOutlierFactor(n_neighbors=20,\n",
    "                                   contamination=contamination,\n",
    "                                   novelty=True)\n",
    "    elif det_name=='ocsvm':\n",
    "        model = OneClassSVM(nu=contamination, kernel='rbf', gamma='auto')\n",
    "    else:\n",
    "        raise ValueError(det_name)\n",
    "    model.fit(Xs)\n",
    "    labels = model.predict(Xs)\n",
    "    scores = model.decision_function(Xs)\n",
    "    return scaler, model, labels, scores\n",
    "\n",
    "# Grid search\n",
    "model_names = ['if','lof','ocsvm']\n",
    "cont_grid = [0.08, 0.10, 0.1138, 0.12, 0.15]\n",
    "from sklearn.model_selection import TimeSeriesSplit\n",
    "\n",
    "tscv = TimeSeriesSplit(n_splits=5)\n",
    "\n",
    "cv_results = []\n",
    "for name in model_names:\n",
    "    for c in cont_grid:\n",
    "        fold_scores = []\n",
    "        for train_idx, test_idx in tscv.split(X):\n",
    "            X_train, X_test = X.iloc[train_idx], X.iloc[test_idx]\n",
    "            y_pseudo_test   = df['pseudo_anom'].iloc[test_idx].values\n",
    "\n",
    "            # entrenar solo con train\n",
    "            _, model, _, _ = train_and_predict(name, X_train, contamination=c)\n",
    "            # predecir sobre test\n",
    "            scaler = StandardScaler().fit(X_train)\n",
    "            Xs_test = scaler.transform(X_test)\n",
    "            y_pred = model.predict(Xs_test)\n",
    "            y_flag = (y_pred == -1).astype(int)\n",
    "\n",
    "            # métrica: acuerdo con pseudo-etiquetas en test\n",
    "            acc = (y_flag == y_pseudo_test).mean()\n",
    "            fold_scores.append(acc*100)\n",
    "\n",
    "        cv_results.append({\n",
    "            'modelo': name,\n",
    "            'contamination': c,\n",
    "            'cv_mean_coincidencia(%)': np.mean(fold_scores),\n",
    "            'cv_std(%)': np.std(fold_scores)\n",
    "        })\n",
    "\n",
    "cv_df = pd.DataFrame(cv_results)\n",
    "display(cv_df.pivot(index='contamination', columns='modelo', values='cv_mean_coincidencia(%)').round(1))\n"
   ]
  },
  {
   "cell_type": "code",
   "execution_count": null,
   "id": "3d3a3f13",
   "metadata": {},
   "outputs": [],
   "source": []
  }
 ],
 "metadata": {
  "kernelspec": {
   "display_name": "Python 3",
   "language": "python",
   "name": "python3"
  },
  "language_info": {
   "codemirror_mode": {
    "name": "ipython",
    "version": 3
   },
   "file_extension": ".py",
   "mimetype": "text/x-python",
   "name": "python",
   "nbconvert_exporter": "python",
   "pygments_lexer": "ipython3",
   "version": "3.11.9"
  }
 },
 "nbformat": 4,
 "nbformat_minor": 5
}
